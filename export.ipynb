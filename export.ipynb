{
 "cells": [
  {
   "cell_type": "code",
   "execution_count": 28,
   "id": "2a297456-6ee5-4a5d-b3d8-dcf164fd04fc",
   "metadata": {},
   "outputs": [],
   "source": [
    "import onnx\n",
    "import torch \n",
    "import onnxruntime as ort\n",
    "import numpy as np"
   ]
  },
  {
   "cell_type": "code",
   "execution_count": 29,
   "id": "1e160fdc-4401-4cf2-afaa-8b2c1c06d6b7",
   "metadata": {},
   "outputs": [
    {
     "data": {
      "text/plain": [
       "<All keys matched successfully>"
      ]
     },
     "execution_count": 29,
     "metadata": {},
     "output_type": "execute_result"
    }
   ],
   "source": [
    "# Load the model\n",
    "\n",
    "from model import CNN\n",
    "model = CNN()\n",
    "model.load_state_dict(torch.load('model.pt', map_location=torch.device('cpu') ))"
   ]
  },
  {
   "cell_type": "code",
   "execution_count": 35,
   "id": "818d225c-be52-4c1a-86f6-b997c05cde56",
   "metadata": {},
   "outputs": [
    {
     "name": "stdout",
     "output_type": "stream",
     "text": [
      "Exported graph: graph(%input.1 : Float(1, 1, 28, 28, strides=[784, 784, 28, 1], requires_grad=0, device=cpu),\n",
      "      %conv1.0.weight : Float(16, 1, 5, 5, strides=[25, 25, 5, 1], requires_grad=1, device=cpu),\n",
      "      %conv1.0.bias : Float(16, strides=[1], requires_grad=1, device=cpu),\n",
      "      %conv2.0.weight : Float(32, 16, 5, 5, strides=[400, 25, 5, 1], requires_grad=1, device=cpu),\n",
      "      %conv2.0.bias : Float(32, strides=[1], requires_grad=1, device=cpu),\n",
      "      %out.weight : Float(10, 1568, strides=[1568, 1], requires_grad=1, device=cpu),\n",
      "      %out.bias : Float(10, strides=[1], requires_grad=1, device=cpu)):\n",
      "  %/conv1/conv1.0/Conv_output_0 : Float(1, 16, 28, 28, strides=[12544, 784, 28, 1], requires_grad=0, device=cpu) = onnx::Conv[dilations=[1, 1], group=1, kernel_shape=[5, 5], pads=[2, 2, 2, 2], strides=[1, 1], onnx_name=\"/conv1/conv1.0/Conv\"](%input.1, %conv1.0.weight, %conv1.0.bias), scope: model.CNN::/torch.nn.modules.container.Sequential::conv1/torch.nn.modules.conv.Conv2d::conv1.0 # /Users/woj/miniconda3/lib/python3.10/site-packages/torch/nn/modules/conv.py:459:0\n",
      "  %/conv1/conv1.1/Relu_output_0 : Float(1, 16, 28, 28, strides=[12544, 784, 28, 1], requires_grad=1, device=cpu) = onnx::Relu[onnx_name=\"/conv1/conv1.1/Relu\"](%/conv1/conv1.0/Conv_output_0), scope: model.CNN::/torch.nn.modules.container.Sequential::conv1/torch.nn.modules.activation.ReLU::conv1.1 # /Users/woj/miniconda3/lib/python3.10/site-packages/torch/nn/functional.py:1457:0\n",
      "  %/conv1/conv1.2/MaxPool_output_0 : Float(1, 16, 14, 14, strides=[3136, 196, 14, 1], requires_grad=1, device=cpu) = onnx::MaxPool[kernel_shape=[2, 2], pads=[0, 0, 0, 0], strides=[2, 2], onnx_name=\"/conv1/conv1.2/MaxPool\"](%/conv1/conv1.1/Relu_output_0), scope: model.CNN::/torch.nn.modules.container.Sequential::conv1/torch.nn.modules.pooling.MaxPool2d::conv1.2 # /Users/woj/miniconda3/lib/python3.10/site-packages/torch/nn/functional.py:782:0\n",
      "  %/conv2/conv2.0/Conv_output_0 : Float(1, 32, 14, 14, strides=[6272, 196, 14, 1], requires_grad=0, device=cpu) = onnx::Conv[dilations=[1, 1], group=1, kernel_shape=[5, 5], pads=[2, 2, 2, 2], strides=[1, 1], onnx_name=\"/conv2/conv2.0/Conv\"](%/conv1/conv1.2/MaxPool_output_0, %conv2.0.weight, %conv2.0.bias), scope: model.CNN::/torch.nn.modules.container.Sequential::conv2/torch.nn.modules.conv.Conv2d::conv2.0 # /Users/woj/miniconda3/lib/python3.10/site-packages/torch/nn/modules/conv.py:459:0\n",
      "  %/conv2/conv2.1/Relu_output_0 : Float(1, 32, 14, 14, strides=[6272, 196, 14, 1], requires_grad=1, device=cpu) = onnx::Relu[onnx_name=\"/conv2/conv2.1/Relu\"](%/conv2/conv2.0/Conv_output_0), scope: model.CNN::/torch.nn.modules.container.Sequential::conv2/torch.nn.modules.activation.ReLU::conv2.1 # /Users/woj/miniconda3/lib/python3.10/site-packages/torch/nn/functional.py:1457:0\n",
      "  %/conv2/conv2.2/MaxPool_output_0 : Float(1, 32, 7, 7, strides=[1568, 49, 7, 1], requires_grad=1, device=cpu) = onnx::MaxPool[kernel_shape=[2, 2], pads=[0, 0, 0, 0], strides=[2, 2], onnx_name=\"/conv2/conv2.2/MaxPool\"]================ Diagnostic Run torch.onnx.export version 2.0.1 ================\n",
      "verbose: False, log level: Level.ERROR\n",
      "======================= 0 NONE 0 NOTE 0 WARNING 0 ERROR ========================\n",
      "\n",
      "(%/conv2/conv2.1/Relu_output_0), scope: model.CNN::/torch.nn.modules.container.Sequential::conv2/torch.nn.modules.pooling.MaxPool2d::conv2.2 # /Users/woj/miniconda3/lib/python3.10/site-packages/torch/nn/functional.py:782:0\n",
      "  %/Constant_output_0 : Long(2, strides=[1], requires_grad=0, device=cpu) = onnx::Constant[value= 1 -1 [ CPULongType{2} ], onnx_name=\"/Constant\"](), scope: model.CNN:: # /Users/woj/projects/ai-workshop/rtcon-workshop/model.py:38:0\n",
      "  %/Reshape_output_0 : Float(1, 1568, strides=[1568, 1], requires_grad=1, device=cpu) = onnx::Reshape[onnx_name=\"/Reshape\"](%/conv2/conv2.2/MaxPool_output_0, %/Constant_output_0), scope: model.CNN:: # /Users/woj/projects/ai-workshop/rtcon-workshop/model.py:38:0\n",
      "  %19 : Float(1, 10, strides=[10, 1], requires_grad=1, device=cpu) = onnx::Gemm[alpha=1., beta=1., transB=1, onnx_name=\"/out/Gemm\"](%/Reshape_output_0, %out.weight, %out.bias), scope: model.CNN::/torch.nn.modules.linear.Linear::out # /Users/woj/miniconda3/lib/python3.10/site-packages/torch/nn/modules/linear.py:114:0\n",
      "  return (%19)\n",
      "\n"
     ]
    }
   ],
   "source": [
    "dummy_input = torch.rand(1, 1, 28, 28)\n",
    "torch.onnx.export(model, dummy_input, \"model.onnx\", verbose=True, opset_version=9)"
   ]
  },
  {
   "cell_type": "code",
   "execution_count": 36,
   "id": "6757d9e7-7fb2-4900-aa41-186632ac04c2",
   "metadata": {},
   "outputs": [
    {
     "data": {
      "text/plain": [
       "((1, 1, 28, 28), 0.0001248674, 0.9998044)"
      ]
     },
     "execution_count": 36,
     "metadata": {},
     "output_type": "execute_result"
    }
   ],
   "source": [
    "im = np.random.uniform(0, 1, (1, 1, 28, 28)).astype(np.float32)\n",
    "im.shape, im.min(), im.max()"
   ]
  },
  {
   "cell_type": "code",
   "execution_count": 37,
   "id": "d39703f9-de08-42ca-a181-ec224c8a5007",
   "metadata": {},
   "outputs": [
    {
     "name": "stdout",
     "output_type": "stream",
     "text": [
      "graph torch_jit (\n",
      "  %input.1[FLOAT, 1x1x28x28]\n",
      ") initializers (\n",
      "  %conv1.0.weight[FLOAT, 16x1x5x5]\n",
      "  %conv1.0.bias[FLOAT, 16]\n",
      "  %conv2.0.weight[FLOAT, 32x16x5x5]\n",
      "  %conv2.0.bias[FLOAT, 32]\n",
      "  %out.weight[FLOAT, 10x1568]\n",
      "  %out.bias[FLOAT, 10]\n",
      ") {\n",
      "  %/conv1/conv1.0/Conv_output_0 = Conv[dilations = [1, 1], group = 1, kernel_shape = [5, 5], pads = [2, 2, 2, 2], strides = [1, 1]](%input.1, %conv1.0.weight, %conv1.0.bias)\n",
      "  %/conv1/conv1.1/Relu_output_0 = Relu(%/conv1/conv1.0/Conv_output_0)\n",
      "  %/conv1/conv1.2/MaxPool_output_0 = MaxPool[kernel_shape = [2, 2], pads = [0, 0, 0, 0], strides = [2, 2]](%/conv1/conv1.1/Relu_output_0)\n",
      "  %/conv2/conv2.0/Conv_output_0 = Conv[dilations = [1, 1], group = 1, kernel_shape = [5, 5], pads = [2, 2, 2, 2], strides = [1, 1]](%/conv1/conv1.2/MaxPool_output_0, %conv2.0.weight, %conv2.0.bias)\n",
      "  %/conv2/conv2.1/Relu_output_0 = Relu(%/conv2/conv2.0/Conv_output_0)\n",
      "  %/conv2/conv2.2/MaxPool_output_0 = MaxPool[kernel_shape = [2, 2], pads = [0, 0, 0, 0], strides = [2, 2]](%/conv2/conv2.1/Relu_output_0)\n",
      "  %/Constant_output_0 = Constant[value = <Tensor>]()\n",
      "  %/Reshape_output_0 = Reshape(%/conv2/conv2.2/MaxPool_output_0, %/Constant_output_0)\n",
      "  %19 = Gemm[alpha = 1, beta = 1, transB = 1](%/Reshape_output_0, %out.weight, %out.bias)\n",
      "  return %19\n",
      "}\n"
     ]
    }
   ],
   "source": [
    "model = onnx.load(\"model.onnx\")\n",
    "\n",
    "# Check that the model is well formed\n",
    "onnx.checker.check_model(model)\n",
    "\n",
    "# Print a human readable representation of the graph\n",
    "print(onnx.helper.printable_graph(model.graph))"
   ]
  },
  {
   "cell_type": "code",
   "execution_count": 42,
   "id": "1b303b9f-45b5-4c3c-89af-1718ed516ca5",
   "metadata": {},
   "outputs": [
    {
     "name": "stdout",
     "output_type": "stream",
     "text": [
      "[array([[-0.72791725, -0.10320602, -1.0514381 , -0.18723258, -0.6499924 ,\n",
      "        -0.19312488,  0.14962967, -1.699068  ,  0.6641484 , -0.20735827]],\n",
      "      dtype=float32)]\n"
     ]
    }
   ],
   "source": [
    "ort_session = ort.InferenceSession(\"model.onnx\")\n",
    "\n",
    "outputs = ort_session.run(\n",
    "    None,\n",
    "    {\"input.1\": im},\n",
    ")\n",
    "print(outputs)"
   ]
  },
  {
   "cell_type": "code",
   "execution_count": null,
   "id": "f1756017-2ef6-4719-8b2b-40582e0d09cd",
   "metadata": {},
   "outputs": [],
   "source": []
  }
 ],
 "metadata": {
  "kernelspec": {
   "display_name": "Python 3 (ipykernel)",
   "language": "python",
   "name": "python3"
  },
  "language_info": {
   "codemirror_mode": {
    "name": "ipython",
    "version": 3
   },
   "file_extension": ".py",
   "mimetype": "text/x-python",
   "name": "python",
   "nbconvert_exporter": "python",
   "pygments_lexer": "ipython3",
   "version": "3.10.10"
  }
 },
 "nbformat": 4,
 "nbformat_minor": 5
}
