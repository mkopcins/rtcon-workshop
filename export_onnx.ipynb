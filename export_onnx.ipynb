{
 "cells": [
  {
   "cell_type": "code",
   "execution_count": null,
   "metadata": {},
   "outputs": [],
   "source": [
    "!pip3 install onnx"
   ]
  },
  {
   "cell_type": "markdown",
   "metadata": {},
   "source": [
    "## Define model class the same as the trained one"
   ]
  },
  {
   "cell_type": "code",
   "execution_count": null,
   "metadata": {},
   "outputs": [],
   "source": [
    "import torch\n",
    "model = TheModelClass()\n",
    "model.load_state_dict(torch.load(PATH))\n",
    "model.eval()"
   ]
  },
  {
   "cell_type": "code",
   "execution_count": null,
   "metadata": {},
   "outputs": [],
   "source": [
    "dummy_input = torch.Tensor(1,1,28,28)\n",
    "torch.onnx.export(\n",
    "  model,\n",
    "  dummy_input,\n",
    "  \"mnist.onnx\", \n",
    "  export_params=True,\n",
    "  opset_version=10,\n",
    "  do_constant_folding=True,\n",
    "  input_names = ['input'], \n",
    "  output_names = ['output'],\n",
    "  dynamic_axes={'input' : {0 : 'batch_size'},  'output' : {0 : 'batch_size'}}) "
   ]
  }
 ],
 "metadata": {
  "language_info": {
   "name": "python"
  },
  "orig_nbformat": 4
 },
 "nbformat": 4,
 "nbformat_minor": 2
}
