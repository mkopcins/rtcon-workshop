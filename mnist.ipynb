{
 "cells": [
  {
   "cell_type": "code",
   "execution_count": 31,
   "outputs": [],
   "source": [
    "import torch\n",
    "from torch import nn, optim\n",
    "import torch.nn.functional as F\n",
    "from torchvision import datasets, transforms\n",
    "from torch.utils.data import DataLoader"
   ],
   "metadata": {
    "collapsed": false,
    "ExecuteTime": {
     "end_time": "2023-09-05T15:21:23.366694Z",
     "start_time": "2023-09-05T15:21:23.347315Z"
    }
   },
   "id": "f9ac0ca1159d7707"
  },
  {
   "cell_type": "code",
   "execution_count": 32,
   "outputs": [],
   "source": [
    "transform = transforms.Compose([\n",
    "    transforms.ToTensor(),\n",
    "    #transforms.Normalize((0.5,), (0.5,)),\n",
    "])\n",
    "\n",
    "train_set = datasets.MNIST('~/.pytorch/MNIST_data/', download=True, train=True, transform=transform)\n",
    "test_set = datasets.MNIST('~/.pytorch/MNIST_data/', download=True, train=False, transform=transform)\n",
    "\n",
    "train_loader = DataLoader(train_set, batch_size=64, shuffle=True)\n",
    "test_loader = DataLoader(test_set, batch_size=64)"
   ],
   "metadata": {
    "collapsed": false,
    "ExecuteTime": {
     "end_time": "2023-09-05T15:21:23.854288Z",
     "start_time": "2023-09-05T15:21:23.547228Z"
    }
   },
   "id": "88e29bf914578628"
  },
  {
   "cell_type": "code",
   "execution_count": 33,
   "outputs": [],
   "source": [
    "# Define the model\n",
    "class Net(nn.Module):\n",
    "    def __init__(self):\n",
    "        super(Net, self).__init__()\n",
    "        self.fc1 = nn.Linear(784, 256)\n",
    "        self.fc2 = nn.Linear(256, 64)\n",
    "        self.fc3 = nn.Linear(64, 10)\n",
    "\n",
    "    def forward(self, x):\n",
    "        x = x.view(x.shape[0], -1)\n",
    "        \n",
    "        x = F.relu(self.fc1(x))\n",
    "        x = F.relu(self.fc2(x))\n",
    "        x = self.fc3(x)\n",
    "        return x"
   ],
   "metadata": {
    "collapsed": false,
    "ExecuteTime": {
     "end_time": "2023-09-05T15:21:23.855851Z",
     "start_time": "2023-09-05T15:21:23.837462Z"
    }
   },
   "id": "68b76466e62af8fa"
  },
  {
   "cell_type": "code",
   "execution_count": 34,
   "id": "initial_id",
   "metadata": {
    "collapsed": true,
    "ExecuteTime": {
     "end_time": "2023-09-05T15:23:23.173974Z",
     "start_time": "2023-09-05T15:21:24.698646Z"
    }
   },
   "outputs": [
    {
     "name": "stdout",
     "output_type": "stream",
     "text": [
      "Epoch 1\n",
      " training loss: 2.2962292343822877\n",
      " training accuracy: 0.12095\n",
      " test loss: 2.2813047800853754\n",
      " test accuracy: 0.1734\n",
      "Epoch 2\n",
      " training loss: 2.263457336405447\n",
      " training accuracy: 0.25771666666666665\n",
      " test loss: 2.242021322250366\n",
      " test accuracy: 0.3259\n",
      "Epoch 3\n",
      " training loss: 2.2141734402316975\n",
      " training accuracy: 0.3991\n",
      " test loss: 2.1778803965088667\n",
      " test accuracy: 0.5108\n",
      "Epoch 4\n",
      " training loss: 2.1316309918218583\n",
      " training accuracy: 0.5700666666666667\n",
      " test loss: 2.0695614951431374\n",
      " test accuracy: 0.6227\n",
      "Epoch 5\n",
      " training loss: 1.9917976523259047\n",
      " training accuracy: 0.6384\n",
      " test loss: 1.888092308287408\n",
      " test accuracy: 0.6635\n",
      "Epoch 6\n",
      " training loss: 1.7704734783182774\n",
      " training accuracy: 0.6824333333333333\n",
      " test loss: 1.621088053770126\n",
      " test accuracy: 0.7097\n",
      "Epoch 7\n",
      " training loss: 1.4861686219538708\n",
      " training accuracy: 0.72215\n",
      " test loss: 1.323789903692379\n",
      " test accuracy: 0.7479\n",
      "Epoch 8\n",
      " training loss: 1.2131328408652022\n",
      " training accuracy: 0.7522166666666666\n",
      " test loss: 1.077600559231582\n",
      " test accuracy: 0.7767\n",
      "Epoch 9\n",
      " training loss: 1.0058801274563967\n",
      " training accuracy: 0.7769333333333334\n",
      " test loss: 0.904257920896931\n",
      " test accuracy: 0.797\n"
     ]
    }
   ],
   "source": [
    "model = Net()\n",
    "criterion = nn.CrossEntropyLoss()\n",
    "optimizer = optim.SGD(model.parameters(), lr=0.001)\n",
    "\n",
    "for epoch in range(1, 10):\n",
    "    print(f\"Epoch {epoch}\")\n",
    "    running_loss = 0\n",
    "    correct = 0\n",
    "    for images, labels in train_loader:\n",
    "        optimizer.zero_grad()\n",
    "        output = model(images)\n",
    "        loss = criterion(output, labels)\n",
    "        loss.backward()\n",
    "        optimizer.step()\n",
    "        \n",
    "        running_loss += loss.item()\n",
    "        predictions = output.argmax(dim=1)\n",
    "        correct += (predictions == labels).sum().item()\n",
    "        \n",
    "    print(f\" training loss: {running_loss/len(train_loader)}\")\n",
    "    print(f\" training accuracy: {correct/len(train_loader.dataset)}\")\n",
    "    \n",
    "    with torch.no_grad():\n",
    "        running_loss = 0\n",
    "        correct = 0\n",
    "        for images, labels in test_loader:\n",
    "            output = model(images)\n",
    "            loss = criterion(output, labels)\n",
    "            running_loss += loss.item()\n",
    "            predictions = output.argmax(dim=1)\n",
    "            correct += (predictions == labels).sum().item()\n",
    "    \n",
    "    print(f\" test loss: {running_loss/len(test_loader)}\")\n",
    "    print(f\" test accuracy: {correct/len(test_loader.dataset)}\")"
   ]
  },
  {
   "cell_type": "markdown",
   "source": [
    "### Saving and loading the model"
   ],
   "metadata": {
    "collapsed": false
   },
   "id": "69d27facd47a5dc4"
  },
  {
   "cell_type": "code",
   "execution_count": 26,
   "outputs": [],
   "source": [
    "# Save the model\n",
    "torch.save(model.state_dict(), 'model.pt')"
   ],
   "metadata": {
    "collapsed": false,
    "ExecuteTime": {
     "end_time": "2023-09-05T15:17:55.765066Z",
     "start_time": "2023-09-05T15:17:55.762156Z"
    }
   },
   "id": "7d9bfbf3efa3c8cb"
  },
  {
   "cell_type": "code",
   "execution_count": 27,
   "outputs": [
    {
     "data": {
      "text/plain": "<All keys matched successfully>"
     },
     "execution_count": 27,
     "metadata": {},
     "output_type": "execute_result"
    }
   ],
   "source": [
    "# Load the model\n",
    "model = Net()\n",
    "model.load_state_dict(torch.load('model.pt'))"
   ],
   "metadata": {
    "collapsed": false,
    "ExecuteTime": {
     "end_time": "2023-09-05T15:17:56.822158Z",
     "start_time": "2023-09-05T15:17:56.796258Z"
    }
   },
   "id": "d7339d0a553d3191"
  },
  {
   "cell_type": "code",
   "execution_count": 30,
   "outputs": [
    {
     "name": "stdout",
     "output_type": "stream",
     "text": [
      "Label: 1\n",
      "Probabilities: tensor([[4.2593e-05, 9.6199e-01, 1.3530e-02, 8.3252e-03, 6.4952e-04, 4.8552e-03,\n",
      "         2.3144e-03, 4.8090e-03, 2.7424e-03, 7.3933e-04]],\n",
      "       grad_fn=<SoftmaxBackward0>)\n",
      "Prediction: tensor(1)\n"
     ]
    }
   ],
   "source": [
    "# Check if the model is working\n",
    "\n",
    "example = test_set[2]\n",
    "img, label = example\n",
    "print('Label:', label)\n",
    "\n",
    "output = model(img)\n",
    "probabilities = F.softmax(output, dim=1)\n",
    "print('Probabilities:', probabilities)\n",
    "print('Prediction:', torch.argmax(output))\n",
    "\n"
   ],
   "metadata": {
    "collapsed": false,
    "ExecuteTime": {
     "end_time": "2023-09-05T15:18:06.721069Z",
     "start_time": "2023-09-05T15:18:06.709348Z"
    }
   },
   "id": "1b3e28a04dda857f"
  }
 ],
 "metadata": {
  "kernelspec": {
   "display_name": "Python 3",
   "language": "python",
   "name": "python3"
  },
  "language_info": {
   "codemirror_mode": {
    "name": "ipython",
    "version": 2
   },
   "file_extension": ".py",
   "mimetype": "text/x-python",
   "name": "python",
   "nbconvert_exporter": "python",
   "pygments_lexer": "ipython2",
   "version": "2.7.6"
  }
 },
 "nbformat": 4,
 "nbformat_minor": 5
}
