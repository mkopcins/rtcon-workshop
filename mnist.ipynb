{
 "cells": [
  {
   "cell_type": "code",
   "execution_count": 1,
   "id": "f9ac0ca1159d7707",
   "metadata": {
    "ExecuteTime": {
     "end_time": "2023-09-11T10:24:46.644043Z",
     "start_time": "2023-09-11T10:24:46.587865Z"
    },
    "collapsed": false,
    "jupyter": {
     "outputs_hidden": false
    }
   },
   "outputs": [],
   "source": [
    "import torch\n",
    "from torch import nn, optim\n",
    "import torch.nn.functional as F\n",
    "from torchvision import datasets, transforms\n",
    "from torch.utils.data import DataLoader"
   ]
  },
  {
   "cell_type": "code",
   "execution_count": 2,
   "id": "88e29bf914578628",
   "metadata": {
    "ExecuteTime": {
     "end_time": "2023-09-06T12:42:48.737554Z",
     "start_time": "2023-09-06T12:42:48.671137Z"
    },
    "collapsed": false,
    "jupyter": {
     "outputs_hidden": false
    }
   },
   "outputs": [],
   "source": [
    "transform = transforms.Compose([\n",
    "    transforms.ToTensor(),\n",
    "    transforms.Normalize((0.5,), (0.5,)),\n",
    "    transforms.RandomRotation(10),\n",
    "    transforms.RandomPerspective(distortion_scale=0.3),\n",
    "    transforms.RandomResizedCrop(28, scale=(0.9, 1.5))\n",
    "])\n",
    "\n",
    "train_set = datasets.MNIST('~/.pytorch/MNIST_data/', download=True, train=True, transform=transform)\n",
    "test_set = datasets.MNIST('~/.pytorch/MNIST_data/', download=True, train=False, transform=transform)\n",
    "\n",
    "train_loader = DataLoader(train_set, batch_size=64, shuffle=True)\n",
    "test_loader = DataLoader(test_set, batch_size=64)"
   ]
  },
  {
   "cell_type": "code",
   "execution_count": 3,
   "id": "68b76466e62af8fa",
   "metadata": {
    "ExecuteTime": {
     "end_time": "2023-09-05T15:21:23.855851Z",
     "start_time": "2023-09-05T15:21:23.837462Z"
    },
    "collapsed": false,
    "jupyter": {
     "outputs_hidden": false
    }
   },
   "outputs": [],
   "source": [
    "class Net(nn.Module):\n",
    "    def __init__(self):\n",
    "        super(Net, self).__init__()\n",
    "        self.fc1 = nn.Linear(784, 256)\n",
    "        self.fc2 = nn.Linear(256, 64)\n",
    "        self.fc3 = nn.Linear(64, 10)\n",
    "\n",
    "    def forward(self, x):\n",
    "        x = x.view(x.shape[0], -1)\n",
    "        \n",
    "        x = F.relu(self.fc1(x))\n",
    "        x = F.relu(self.fc2(x))\n",
    "        x = self.fc3(x)\n",
    "        return x"
   ]
  },
  {
   "cell_type": "code",
   "execution_count": 4,
   "id": "fe0012d20f34e12c",
   "metadata": {
    "collapsed": false,
    "jupyter": {
     "outputs_hidden": false
    }
   },
   "outputs": [],
   "source": [
    "class CNN(nn.Module):\n",
    "    def __init__(self):  \n",
    "        super(CNN, self).__init__()  \n",
    "        self.conv1 = nn.Sequential(  \n",
    "             nn.Conv2d(in_channels=1, out_channels=16, kernel_size=5, stride=1, padding=2),\n",
    "             nn.ReLU(),\n",
    "             nn.MaxPool2d(kernel_size=2) # (16,14,14)\n",
    "         )\n",
    "        self.conv2 = nn.Sequential( # (16,14,14)\n",
    "             nn.Conv2d(16, 32, 5, 1, 2), # (32,14,14)\n",
    "             nn.ReLU(),\n",
    "             nn.MaxPool2d(2) # (32,7,7)\n",
    "         )\n",
    "        self.out = nn.Linear(32*7*7, 10)\n",
    "    def forward(self, x):\n",
    "        x = self.conv1(x)\n",
    "        x = self.conv2(x)\n",
    "        x = x.view(x.size(0), -1) # (batch, 32,7,7) -> (batch, 32*7*7)\n",
    "        output = self.out(x)\n",
    "        return output"
   ]
  },
  {
   "cell_type": "code",
   "execution_count": 1,
   "id": "initial_id",
   "metadata": {
    "ExecuteTime": {
     "end_time": "2023-09-06T12:12:32.621436Z",
     "start_time": "2023-09-06T12:12:32.163629Z"
    },
    "collapsed": true,
    "jupyter": {
     "outputs_hidden": true
    }
   },
   "outputs": [
    {
     "ename": "NameError",
     "evalue": "name 'nn' is not defined",
     "output_type": "error",
     "traceback": [
      "\u001b[0;31m---------------------------------------------------------------------------\u001b[0m",
      "\u001b[0;31mNameError\u001b[0m                                 Traceback (most recent call last)",
      "Cell \u001b[0;32mIn[1], line 1\u001b[0m\n\u001b[0;32m----> 1\u001b[0m \u001b[38;5;28;01mclass\u001b[39;00m \u001b[38;5;21;01mCNN\u001b[39;00m(\u001b[43mnn\u001b[49m\u001b[38;5;241m.\u001b[39mModule):\n\u001b[1;32m      2\u001b[0m     \u001b[38;5;28;01mdef\u001b[39;00m \u001b[38;5;21m__init__\u001b[39m(\u001b[38;5;28mself\u001b[39m):\n\u001b[1;32m      3\u001b[0m         \u001b[38;5;28msuper\u001b[39m(CNN, \u001b[38;5;28mself\u001b[39m)\u001b[38;5;241m.\u001b[39m\u001b[38;5;21m__init__\u001b[39m()\n",
      "\u001b[0;31mNameError\u001b[0m: name 'nn' is not defined"
     ]
    }
   ],
   "source": [
    "model = Net()\n",
    "criterion = nn.CrossEntropyLoss()\n",
    "optimizer = optim.Adam(model.parameters(), lr=0.001)\n",
    "\n",
    "for epoch in range(1, 10):\n",
    "    print(f\"Epoch {epoch}\")\n",
    "    running_loss = 0\n",
    "    correct = 0\n",
    "    for images, labels in train_loader:\n",
    "        optimizer.zero_grad()\n",
    "        output = model(images)\n",
    "        loss = criterion(output, labels)\n",
    "        loss.backward()\n",
    "        optimizer.step()\n",
    "        \n",
    "        running_loss += loss.item()\n",
    "        predictions = output.argmax(dim=1)\n",
    "        correct += (predictions == labels).sum().item()\n",
    "        \n",
    "    print(f\" training loss: {running_loss/len(train_loader)}\")\n",
    "    print(f\" training accuracy: {correct/len(train_loader.dataset)}\")\n",
    "    \n",
    "    with torch.no_grad():\n",
    "        running_loss = 0\n",
    "        correct = 0\n",
    "        for images, labels in test_loader:\n",
    "            output = model(images)\n",
    "            loss = criterion(output, labels)\n",
    "            running_loss += loss.item()\n",
    "            predictions = output.argmax(dim=1)\n",
    "            correct += (predictions == labels).sum().item()\n",
    "    \n",
    "    print(f\" test loss: {running_loss/len(test_loader)}\")\n",
    "    print(f\" test accuracy: {correct/len(test_loader.dataset)}\")"
   ]
  },
  {
   "cell_type": "markdown",
   "id": "69d27facd47a5dc4",
   "metadata": {
    "collapsed": false,
    "jupyter": {
     "outputs_hidden": false
    }
   },
   "source": [
    "### Saving and loading the model"
   ]
  },
  {
   "cell_type": "code",
   "execution_count": 26,
   "id": "7d9bfbf3efa3c8cb",
   "metadata": {
    "ExecuteTime": {
     "end_time": "2023-09-05T15:17:55.765066Z",
     "start_time": "2023-09-05T15:17:55.762156Z"
    },
    "collapsed": false,
    "jupyter": {
     "outputs_hidden": false
    }
   },
   "outputs": [],
   "source": [
    "# Save the model\n",
    "torch.save(model.state_dict(), 'model.pt')"
   ]
  },
  {
   "cell_type": "code",
   "execution_count": 6,
   "id": "d7339d0a553d3191",
   "metadata": {
    "ExecuteTime": {
     "end_time": "2023-09-05T15:17:56.822158Z",
     "start_time": "2023-09-05T15:17:56.796258Z"
    },
    "collapsed": false,
    "jupyter": {
     "outputs_hidden": false
    }
   },
   "outputs": [
    {
     "data": {
      "text/plain": [
       "<All keys matched successfully>"
      ]
     },
     "execution_count": 6,
     "metadata": {},
     "output_type": "execute_result"
    }
   ],
   "source": [
    "# Load the model\n",
    "model = CNN()\n",
    "model.load_state_dict(torch.load('model.pt', map_location=torch.device('cpu') ))"
   ]
  },
  {
   "cell_type": "code",
   "execution_count": 13,
   "id": "1b3e28a04dda857f",
   "metadata": {
    "ExecuteTime": {
     "end_time": "2023-09-05T15:18:06.721069Z",
     "start_time": "2023-09-05T15:18:06.709348Z"
    },
    "collapsed": false,
    "jupyter": {
     "outputs_hidden": false
    }
   },
   "outputs": [
    {
     "name": "stdout",
     "output_type": "stream",
     "text": [
      "Label: 1\n",
      "Probabilities: tensor([[4.3807e-10, 1.0000e+00, 5.6370e-10, 1.1780e-11, 4.1226e-07, 1.4320e-08,\n",
      "         3.0005e-08, 6.5777e-08, 6.5056e-09, 6.9205e-10]],\n",
      "       grad_fn=<SoftmaxBackward0>)\n",
      "Prediction: tensor(1)\n"
     ]
    }
   ],
   "source": [
    "# Check if the model is working\n",
    "\n",
    "example = test_set[2]\n",
    "img, label = example\n",
    "img = img.unsqueeze(0)\n",
    "print('Label:', label)\n",
    "\n",
    "output = model(img)\n",
    "probabilities = F.softmax(output, dim=1)\n",
    "print('Probabilities:', probabilities)\n",
    "print('Prediction:', torch.argmax(output))\n"
   ]
  }
 ],
 "metadata": {
  "kernelspec": {
   "display_name": "Python 3 (ipykernel)",
   "language": "python",
   "name": "python3"
  },
  "language_info": {
   "codemirror_mode": {
    "name": "ipython",
    "version": 3
   },
   "file_extension": ".py",
   "mimetype": "text/x-python",
   "name": "python",
   "nbconvert_exporter": "python",
   "pygments_lexer": "ipython3",
   "version": "3.10.10"
  }
 },
 "nbformat": 4,
 "nbformat_minor": 5
}
