{
 "cells": [
  {
   "cell_type": "code",
   "execution_count": 7,
   "metadata": {},
   "outputs": [],
   "source": [
    "import re\n",
    "import torch\n",
    "from transformer_net import Student, mods, TransformerNet\n",
    "\n",
    "def profile_model(model_path='./models_pth/mosaic.pth', model_class=TransformerNet):\n",
    "  with torch.no_grad():\n",
    "      if model_class == TransformerNet:\n",
    "        style_model = TransformerNet()\n",
    "      else:\n",
    "        style_model = Student(mods)\n",
    "      \n",
    "      state_dict = torch.load(model_path,map_location=torch.device('cpu'))\n",
    "      # remove saved deprecated running_* keys in InstanceNorm from the checkpoint\n",
    "      for k in list(state_dict.keys()):\n",
    "          if re.search(r'in\\d+\\.running_(mean|var)$', k):\n",
    "              del state_dict[k]\n",
    "      style_model.load_state_dict(state_dict)\n",
    "      style_model.eval()\n",
    "\n",
    "      input = torch.Tensor(1,3,640,480)\n",
    "\n",
    "\n",
    "  def trace_handler(prof):\n",
    "      print(prof.key_averages(group_by_input_shape=True).table(sort_by=\"self_cpu_time_total\", row_limit=20))\n",
    "      \n",
    "  with torch.profiler.profile(\n",
    "      with_stack=True,\n",
    "      # profile_memory=True,\n",
    "      record_shapes=True,\n",
    "      activities=[\n",
    "          torch.profiler.ProfilerActivity.CPU,\n",
    "      ],\n",
    "      schedule=torch.profiler.schedule(\n",
    "          wait=1,\n",
    "          warmup=1,\n",
    "          active=1,\n",
    "          repeat=1),\n",
    "      on_trace_ready=trace_handler\n",
    "      ) as p:\n",
    "          for iter in range(4):\n",
    "              style_model(input)\n",
    "              # send a signal to the profiler that the next iteration has started\n",
    "              p.step()"
   ]
  },
  {
   "cell_type": "code",
   "execution_count": 9,
   "metadata": {},
   "outputs": [
    {
     "name": "stderr",
     "output_type": "stream",
     "text": [
      "STAGE:2023-10-12 02:39:10 70106:8714535 ActivityProfilerController.cpp:312] Completed Stage: Warm Up\n",
      "STAGE:2023-10-12 02:39:10 70106:8714535 ActivityProfilerController.cpp:318] Completed Stage: Collection\n",
      "STAGE:2023-10-12 02:39:10 70106:8714535 ActivityProfilerController.cpp:322] Completed Stage: Post Processing\n"
     ]
    },
    {
     "name": "stdout",
     "output_type": "stream",
     "text": [
      "--------------------------------  ------------  ------------  ------------  ------------  ------------  ------------  --------------------------------------------------------------------------------  \n",
      "                            Name    Self CPU %      Self CPU   CPU total %     CPU total  CPU time avg    # of Calls                                                                      Input Shapes  \n",
      "--------------------------------  ------------  ------------  ------------  ------------  ------------  ------------  --------------------------------------------------------------------------------  \n",
      "      aten::_slow_conv2d_forward        85.93%     164.551ms        86.17%     165.002ms     165.002ms             1                               [[1, 12, 648, 488], [3, 12, 9, 9], [], [3], [], []]  \n",
      "      aten::_slow_conv2d_forward         4.69%       8.981ms         4.77%       9.127ms       9.127ms             1                                 [[1, 3, 648, 488], [9, 3, 9, 9], [], [9], [], []]  \n",
      "      aten::_slow_conv2d_forward         2.31%       4.418ms         2.41%       4.620ms       4.620ms             1                             [[1, 20, 322, 242], [12, 20, 3, 3], [], [12], [], []]  \n",
      "                   ProfilerStep*         1.35%       2.576ms       100.00%     191.487ms     191.487ms             1                                                                                []  \n",
      "               aten::thnn_conv2d         0.56%       1.073ms         0.56%       1.073ms       1.073ms             1                               [[1, 9, 322, 242], [10, 9, 3, 3], [], [10], [], []]  \n",
      "      aten::_slow_conv2d_forward         0.53%       1.014ms         0.56%       1.072ms       1.072ms             1                               [[1, 9, 322, 242], [10, 9, 3, 3], [], [10], [], []]  \n",
      "               aten::thnn_conv2d         0.48%     914.000us         0.48%     914.000us     914.000us             1                             [[1, 10, 162, 122], [20, 10, 3, 3], [], [20], [], []]  \n",
      "         aten::native_batch_norm         0.42%     806.000us         0.42%     811.000us     811.000us             1                               [[1, 12, 320, 240], [12], [12], [], [], [], [], []]  \n",
      "        aten::upsample_nearest2d         0.41%     792.000us         0.42%     799.000us     799.000us             1                                                       [[1, 12, 320, 240], [], []]  \n",
      "      aten::_slow_conv2d_forward         0.40%     764.000us         0.48%     913.000us     913.000us             1                             [[1, 10, 162, 122], [20, 10, 3, 3], [], [20], [], []]  \n",
      "        aten::upsample_nearest2d         0.30%     570.000us         0.30%     580.000us     580.000us             1                                                       [[1, 20, 160, 120], [], []]  \n",
      "      aten::_slow_conv2d_forward         0.29%     549.000us         0.33%     626.000us     626.000us             1                               [[1, 10, 162, 122], [9, 10, 3, 3], [], [9], [], []]  \n",
      "          aten::reflection_pad2d         0.28%     540.000us         0.28%     541.000us     541.000us             1                                                           [[1, 12, 640, 480], []]  \n",
      "         aten::native_batch_norm         0.28%     538.000us         0.28%     544.000us     544.000us             1                                  [[1, 9, 320, 240], [9], [9], [], [], [], [], []]  \n",
      "      aten::_slow_conv2d_forward         0.26%     495.000us         0.30%     575.000us     575.000us             1                               [[1, 9, 162, 122], [10, 9, 3, 3], [], [10], [], []]  \n",
      "         aten::native_batch_norm         0.24%     461.000us         0.24%     464.000us     232.000us             2                               [[1, 10, 160, 120], [10], [10], [], [], [], [], []]  \n",
      "          aten::reflection_pad2d         0.23%     447.000us         0.23%     447.000us     447.000us             1                                                           [[1, 20, 320, 240], []]  \n",
      "         aten::native_batch_norm         0.22%     430.000us         0.23%     431.000us     431.000us             1                               [[1, 20, 160, 120], [20], [20], [], [], [], [], []]  \n",
      "                aten::leaky_relu         0.22%     427.000us         0.22%     427.000us     427.000us             1                                                           [[1, 12, 320, 240], []]  \n",
      "                     aten::copy_         0.22%     427.000us         0.22%     427.000us     427.000us             1                                                 [[1, 3, 640, 480], [3, 1, 1], []]  \n",
      "--------------------------------  ------------  ------------  ------------  ------------  ------------  ------------  --------------------------------------------------------------------------------  \n",
      "Self CPU time total: 191.487ms\n",
      "\n"
     ]
    }
   ],
   "source": [
    "profile_model(model_path='./models_pth/mosaic_compressed_36.pth', model_class=Student)"
   ]
  },
  {
   "cell_type": "code",
   "execution_count": null,
   "metadata": {},
   "outputs": [],
   "source": []
  }
 ],
 "metadata": {
  "kernelspec": {
   "display_name": "Python 3",
   "language": "python",
   "name": "python3"
  },
  "language_info": {
   "codemirror_mode": {
    "name": "ipython",
    "version": 3
   },
   "file_extension": ".py",
   "mimetype": "text/x-python",
   "name": "python",
   "nbconvert_exporter": "python",
   "pygments_lexer": "ipython3",
   "version": "3.9.16"
  },
  "orig_nbformat": 4
 },
 "nbformat": 4,
 "nbformat_minor": 2
}
